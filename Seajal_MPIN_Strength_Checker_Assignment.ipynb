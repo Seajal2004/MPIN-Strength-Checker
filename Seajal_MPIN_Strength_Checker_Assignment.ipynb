{
 "cells": [
  {
   "cell_type": "markdown",
   "id": "7cfea1b9",
   "metadata": {},
   "source": [
    "# MPIN Strength Checker Assignment\n",
    "### By: Seajal Gupta\n",
    "#### Date: May 02, 2025\n"
   ]
  },
  {
   "cell_type": "markdown",
   "id": "495a523d",
   "metadata": {},
   "source": [
    "## Background\n",
    "MPIN is a Mobile Personal Identification Number used in mobile banking applications. Users often choose MPINs that are easily guessable. This project evaluates MPIN strength based on two main criteria:\n",
    "1. **Commonly Used MPINs** (e.g., 1234, 1122)\n",
    "2. **Demographic-Based MPINs** (like user's DOB, anniversary, etc.)"
   ]
  },
  {
   "cell_type": "markdown",
   "id": "92c60112",
   "metadata": {},
   "source": [
    "<!-- ## Problem Overview\n",
    "# We solve the following parts:\n",
    "\n",
    "# Part A: Identify if a 4-digit MPIN is commonly used.\n",
    "\n",
    "# Part B: Use demographic data to assess if the MPIN is weak or strong.\n",
    "\n",
    "# Part C: Provide reasons if an MPIN is weak.\n",
    "\n",
    "# Part D: Extend logic to 6-digit MPINs.\n",
    "\n",
    "#Part E: Validate logic with 20+ test cases -->"
   ]
  },
  {
   "cell_type": "markdown",
   "id": "ef28f937",
   "metadata": {},
   "source": [
    "## Problem Overview\n",
    "We solve the following parts:\n",
    "\n",
    "Part A: Identify if a 4-digit MPIN is commonly used.\n",
    "\n",
    "Part B: Use demographic data to assess if the MPIN is weak or strong.\n",
    "\n",
    "Part C: Provide reasons if an MPIN is weak.\n",
    "\n",
    "Part D: Extend logic to 6-digit MPINs.\n",
    "\n",
    "Part E: Validate logic with 20+ test cases"
   ]
  },
  {
   "cell_type": "markdown",
   "id": "95bb6cb6",
   "metadata": {},
   "source": [
    "## Part A: Check if MPIN is Commonly Used\n",
    "We use a predefined list of commonly used MPINs to verify if the provided MPIN is weak."
   ]
  },
  {
   "cell_type": "code",
   "execution_count": 7,
   "id": "559c8edb",
   "metadata": {},
   "outputs": [
    {
     "name": "stdout",
     "output_type": "stream",
     "text": [
      "Enter your 4-digit MPIN: 5555\n",
      "This MPIN is commonly used.\n"
     ]
    }
   ],
   "source": [
    "# Part A: Check if MPIN is commonly used (4-digit)\n",
    "COMMON_MPINS = {\n",
    "    '1234', '0000', '1111', '1212', '7777', '1004',\n",
    "    '2000', '4444', '2222', '6969', '9999', '3333',\n",
    "    '5555', '6666', '1122', '1313', '8888', '4321',\n",
    "    '2001', '1010'\n",
    "}\n",
    "\n",
    "def is_commonly_used(mpin: str) -> bool:\n",
    "    return mpin in COMMON_MPINS\n",
    "\n",
    "# Take input from user\n",
    "mpin = input(\"Enter your 4-digit MPIN: \")\n",
    "if len(mpin) != 4 or not mpin.isdigit():\n",
    "    print(\"Invalid MPIN. Please enter exactly 4 digits.\")\n",
    "else:\n",
    "    if is_commonly_used(mpin):\n",
    "        print(\"This MPIN is commonly used.\")\n",
    "    else:\n",
    "        print(\"This MPIN is not commonly used.\")\n"
   ]
  },
  {
   "cell_type": "markdown",
   "id": "a90312f4",
   "metadata": {},
   "source": [
    "##  Part B: Take demographics and suggest strength (4-digit MPIN)"
   ]
  },
  {
   "cell_type": "code",
   "execution_count": 9,
   "id": "12791843",
   "metadata": {},
   "outputs": [
    {
     "name": "stdout",
     "output_type": "stream",
     "text": [
      "Enter 4-digit MPIN: \n",
      "Enter your DOB (DD-MM-YYYY): \n",
      "MPIN Strength: STRONG\n"
     ]
    }
   ],
   "source": [
    "from datetime import datetime\n",
    "\n",
    "def match_demographic(mpin: str, date_str: str) -> bool:\n",
    "    try:\n",
    "        date_obj = datetime.strptime(date_str, \"%d-%m-%Y\")\n",
    "        patterns = [\n",
    "            date_obj.strftime(\"%d%m\"),        # DDMM\n",
    "            date_obj.strftime(\"%m%d\"),        # MMDD\n",
    "            date_obj.strftime(\"%Y\"),          # YYYY\n",
    "            date_obj.strftime(\"%d%m%Y\"),      # DDMMYYYY\n",
    "            date_obj.strftime(\"%m%d%Y\"),      # MMDDYYYY\n",
    "            date_obj.strftime(\"%d%m%y\"),      # DDMMYY ← NEW\n",
    "            date_obj.strftime(\"%m%d%y\"),      # MMDDYY ← NEW\n",
    "            date_obj.strftime(\"%y%m%d\"),      # YYMMDD ← NEW\n",
    "        ]\n",
    "        return mpin in patterns\n",
    "    except:\n",
    "        return False\n",
    "\n",
    "def get_strength_part_b(mpin: str, dob_self: str) -> str:\n",
    "    if is_commonly_used(mpin) or match_demographic(mpin, dob_self):\n",
    "        return \"WEAK\"\n",
    "    return \"STRONG\"\n",
    "\n",
    "# Input\n",
    "mpin = input(\"Enter 4-digit MPIN: \")\n",
    "dob_self = input(\"Enter your DOB (DD-MM-YYYY): \")\n",
    "\n",
    "# Output\n",
    "strength = get_strength_part_b(mpin, dob_self)\n",
    "print(f\"MPIN Strength: {strength}\")"
   ]
  },
  {
   "cell_type": "markdown",
   "id": "7c79c5a5",
   "metadata": {},
   "source": [
    "## Part C: Provide a reason if the MPIN is weak"
   ]
  },
  {
   "cell_type": "code",
   "execution_count": 10,
   "id": "f29541c7",
   "metadata": {},
   "outputs": [
    {
     "name": "stdout",
     "output_type": "stream",
     "text": [
      "Enter 4-digit MPIN: 5674\n",
      "Enter your DOB (DD-MM-YYYY): 3468\n",
      "Enter your Spouse's DOB (DD-MM-YYYY): 9876\n",
      "Enter your Anniversary (DD-MM-YYYY): 4567\n",
      "MPIN Strength: STRONG\n",
      "Reasons: []\n"
     ]
    }
   ],
   "source": [
    "def check_mpin_strength(mpin: str, dob_self=None, dob_spouse=None, anniversary=None):\n",
    "    reasons = []\n",
    "\n",
    "    if is_commonly_used(mpin):\n",
    "        reasons.append(\"COMMONLY_USED\")\n",
    "    if match_demographic(mpin, dob_self):\n",
    "        reasons.append(\"DEMOGRAPHIC_DOB_SELF\")\n",
    "    if match_demographic(mpin, dob_spouse):\n",
    "        reasons.append(\"DEMOGRAPHIC_DOB_SPOUSE\")\n",
    "    if match_demographic(mpin, anniversary):\n",
    "        reasons.append(\"DEMOGRAPHIC_ANNIVERSARY\")\n",
    "\n",
    "    strength = \"WEAK\" if reasons else \"STRONG\"\n",
    "    return {\"strength\": strength, \"reasons\": reasons}\n",
    "\n",
    "# Input\n",
    "mpin = input(\"Enter 4-digit MPIN: \")\n",
    "dob_self = input(\"Enter your DOB (DD-MM-YYYY): \")\n",
    "dob_spouse = input(\"Enter your Spouse's DOB (DD-MM-YYYY): \")\n",
    "anniversary = input(\"Enter your Anniversary (DD-MM-YYYY): \")\n",
    "\n",
    "# Output\n",
    "result = check_mpin_strength(mpin, dob_self, dob_spouse, anniversary)\n",
    "print(\"MPIN Strength:\", result['strength'])\n",
    "print(\"Reasons:\", result['reasons'])"
   ]
  },
  {
   "cell_type": "markdown",
   "id": "f1cc5955",
   "metadata": {},
   "source": [
    "##  Part D: Handle both 4-digit and 6-digit MPIN"
   ]
  },
  {
   "cell_type": "code",
   "execution_count": 11,
   "id": "11ea258b",
   "metadata": {},
   "outputs": [
    {
     "name": "stdout",
     "output_type": "stream",
     "text": [
      "Enter 4 or 6-digit MPIN: 564356\n",
      "Enter your DOB (DD-MM-YYYY): 987654\n",
      "Enter your Spouse's DOB (DD-MM-YYYY): 456789\n",
      "Enter your Anniversary (DD-MM-YYYY): 098765\n",
      "MPIN Strength: STRONG\n",
      "Reasons: []\n"
     ]
    }
   ],
   "source": [
    "# Extended for 6-digit MPINs\n",
    "COMMON_MPINS.update({'123456', '111111', '000000', '121212'})\n",
    "\n",
    "def validate_mpin(mpin: str, dob_self=None, dob_spouse=None, anniversary=None):\n",
    "    if not mpin.isdigit() or len(mpin) not in [4, 6]:\n",
    "        raise ValueError(\"MPIN must be 4 or 6 digits.\")\n",
    "    return check_mpin_strength(mpin, dob_self, dob_spouse, anniversary)\n",
    "\n",
    "# Input\n",
    "mpin = input(\"Enter 4 or 6-digit MPIN: \")\n",
    "dob_self = input(\"Enter your DOB (DD-MM-YYYY): \")\n",
    "dob_spouse = input(\"Enter your Spouse's DOB (DD-MM-YYYY): \")\n",
    "anniversary = input(\"Enter your Anniversary (DD-MM-YYYY): \")\n",
    "\n",
    "# Output\n",
    "try:\n",
    "    result = validate_mpin(mpin, dob_self, dob_spouse, anniversary)\n",
    "    print(\"MPIN Strength:\", result['strength'])\n",
    "    print(\"Reasons:\", result['reasons'])\n",
    "except ValueError as e:\n",
    "    print(\"Error:\", e)"
   ]
  },
  {
   "cell_type": "markdown",
   "id": "4e97e72d",
   "metadata": {},
   "source": [
    "## Part E: Testing the Code (20 Test Case Scenarios)"
   ]
  },
  {
   "cell_type": "code",
   "execution_count": 12,
   "id": "6605e469",
   "metadata": {},
   "outputs": [
    {
     "name": "stdout",
     "output_type": "stream",
     "text": [
      "Test 1: MPIN=1234 ➝ Strength: WEAK | Reasons: ['COMMONLY_USED']\n",
      "Test 2: MPIN=4321 ➝ Strength: WEAK | Reasons: ['COMMONLY_USED']\n",
      "Test 3: MPIN=1999 ➝ Strength: WEAK | Reasons: ['DEMOGRAPHIC_DOB_SELF']\n",
      "Test 4: MPIN=2508 ➝ Strength: WEAK | Reasons: ['DEMOGRAPHIC_DOB_SPOUSE']\n",
      "Test 5: MPIN=14022020 ➝ ERROR: MPIN must be 4 or 6 digits.\n",
      "Test 6: MPIN=121212 ➝ Strength: WEAK | Reasons: ['COMMONLY_USED']\n",
      "Test 7: MPIN=9999 ➝ Strength: WEAK | Reasons: ['COMMONLY_USED']\n",
      "Test 8: MPIN=1010 ➝ Strength: WEAK | Reasons: ['COMMONLY_USED', 'DEMOGRAPHIC_DOB_SELF']\n",
      "Test 9: MPIN=0101 ➝ Strength: WEAK | Reasons: ['DEMOGRAPHIC_DOB_SPOUSE']\n",
      "Test 10: MPIN=2001 ➝ Strength: WEAK | Reasons: ['COMMONLY_USED']\n",
      "Test 11: MPIN=5678 ➝ Strength: STRONG | Reasons: []\n",
      "Test 12: MPIN=123456 ➝ Strength: WEAK | Reasons: ['COMMONLY_USED']\n",
      "Test 13: MPIN=06061996 ➝ ERROR: MPIN must be 4 or 6 digits.\n",
      "Test 14: MPIN=111111 ➝ Strength: WEAK | Reasons: ['COMMONLY_USED']\n",
      "Test 15: MPIN=1313 ➝ Strength: WEAK | Reasons: ['COMMONLY_USED']\n",
      "Test 16: MPIN=8888 ➝ Strength: WEAK | Reasons: ['COMMONLY_USED']\n",
      "Test 17: MPIN=07072007 ➝ ERROR: MPIN must be 4 or 6 digits.\n",
      "Test 18: MPIN=123123 ➝ Strength: STRONG | Reasons: []\n",
      "Test 19: MPIN=1122 ➝ Strength: WEAK | Reasons: ['COMMONLY_USED']\n",
      "Test 20: MPIN=30081992 ➝ ERROR: MPIN must be 4 or 6 digits.\n",
      "Test 21: MPIN=2000 ➝ Strength: WEAK | Reasons: ['COMMONLY_USED']\n"
     ]
    }
   ],
   "source": [
    "def run_tests():\n",
    "    test_cases = [\n",
    "        {\"mpin\": \"1234\"},\n",
    "        {\"mpin\": \"4321\"},\n",
    "        {\"mpin\": \"1999\", \"dob_self\": \"19-09-1999\"},\n",
    "        {\"mpin\": \"2508\", \"dob_spouse\": \"25-08-1995\"},\n",
    "        {\"mpin\": \"14022020\", \"anniversary\": \"14-02-2020\"},\n",
    "        {\"mpin\": \"121212\"},\n",
    "        {\"mpin\": \"9999\"},\n",
    "        {\"mpin\": \"1010\", \"dob_self\": \"10-10-1990\"},\n",
    "        {\"mpin\": \"0101\", \"dob_spouse\": \"01-01-2001\"},\n",
    "        {\"mpin\": \"2001\"},\n",
    "        {\"mpin\": \"5678\"},\n",
    "        {\"mpin\": \"123456\"},\n",
    "        {\"mpin\": \"06061996\", \"dob_self\": \"06-06-1996\"},\n",
    "        {\"mpin\": \"111111\"},\n",
    "        {\"mpin\": \"1313\"},\n",
    "        {\"mpin\": \"8888\"},\n",
    "        {\"mpin\": \"07072007\", \"anniversary\": \"07-07-2007\"},\n",
    "        {\"mpin\": \"123123\"},\n",
    "        {\"mpin\": \"1122\"},\n",
    "        {\"mpin\": \"30081992\", \"dob_spouse\": \"30-08-1992\"},\n",
    "        {\"mpin\": \"2000\"},\n",
    "    ]\n",
    "\n",
    "    for idx, case in enumerate(test_cases):\n",
    "        try:\n",
    "            result = validate_mpin(\n",
    "                case.get(\"mpin\"),\n",
    "                case.get(\"dob_self\"),\n",
    "                case.get(\"dob_spouse\"),\n",
    "                case.get(\"anniversary\")\n",
    "            )\n",
    "            print(f\"Test {idx + 1}: MPIN={case['mpin']} ➝ Strength: {result['strength']} | Reasons: {result['reasons']}\")\n",
    "        except ValueError as e:\n",
    "            print(f\"Test {idx + 1}: MPIN={case['mpin']} ➝ ERROR: {e}\")\n",
    "\n",
    "run_tests()"
   ]
  },
  {
   "cell_type": "markdown",
   "id": "d643d392",
   "metadata": {},
   "source": []
  },
  {
   "cell_type": "code",
   "execution_count": null,
   "id": "c8f2d8f5",
   "metadata": {},
   "outputs": [],
   "source": []
  },
  {
   "cell_type": "code",
   "execution_count": null,
   "id": "276820eb",
   "metadata": {},
   "outputs": [],
   "source": []
  }
 ],
 "metadata": {
  "kernelspec": {
   "display_name": "Python 3 (ipykernel)",
   "language": "python",
   "name": "python3"
  },
  "language_info": {
   "codemirror_mode": {
    "name": "ipython",
    "version": 3
   },
   "file_extension": ".py",
   "mimetype": "text/x-python",
   "name": "python",
   "nbconvert_exporter": "python",
   "pygments_lexer": "ipython3",
   "version": "3.11.5"
  }
 },
 "nbformat": 4,
 "nbformat_minor": 5
}
